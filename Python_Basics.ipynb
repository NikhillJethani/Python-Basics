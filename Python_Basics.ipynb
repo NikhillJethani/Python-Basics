{
  "nbformat": 4,
  "nbformat_minor": 0,
  "metadata": {
    "colab": {
      "provenance": []
    },
    "kernelspec": {
      "name": "python3",
      "display_name": "Python 3"
    },
    "language_info": {
      "name": "python"
    }
  },
  "cells": [
    {
      "cell_type": "markdown",
      "source": [
        "1. What is Python, and why is it popular?\n",
        "  - Python is a high-level, interpreted programming language known for its simplicity, readability, and versatility. It is popular because:\n",
        "\n",
        "    - It has easy-to-read syntax.\n",
        "    - It supports multiple programming paradigms (procedural, object-oriented, functional).\n",
        "    - It has a large standard library and strong community support.\n",
        "    - It is widely used in web development, data science, AI, automation, and more.\n",
        "\n"
      ],
      "metadata": {
        "id": "fRMp9vIaPd-t"
      }
    },
    {
      "cell_type": "markdown",
      "source": [
        "2. What is an interpreter in Python?\n",
        "      - The Python interpreter is a program that executes Python code line by line instead of compiling it into machine code. This allows for easier debugging and rapid development."
      ],
      "metadata": {
        "id": "To5e_DtYP3xA"
      }
    },
    {
      "cell_type": "markdown",
      "source": [
        "3. What are pre-defined keywords in Python?\n",
        "      - Pre-defined keywords are reserved words that have special meaning in Python and cannot be used as variable names."
      ],
      "metadata": {
        "id": "hnpdO8vYP_2c"
      }
    },
    {
      "cell_type": "markdown",
      "source": [
        "4. Can keywords be used as variable names?\n",
        "      - No, keywords cannot be used as variable names because they are reserved for specific functionalities in Python."
      ],
      "metadata": {
        "id": "He7H4UemQP0R"
      }
    },
    {
      "cell_type": "markdown",
      "source": [
        "5. What is mutability in Python?\n",
        "    - Mutability refers to whether an object can be changed after creation.\n",
        "\n",
        "       - Mutable objects can be modified (e.g., lists, dictionaries, sets).\n",
        "       - Immutable objects cannot be changed (e.g., tuples, strings, numbers)."
      ],
      "metadata": {
        "id": "XMPfUgI6QV_G"
      }
    },
    {
      "cell_type": "markdown",
      "source": [
        "6. Why are lists mutable, but tuples are immutable?\n",
        "    - Lists are mutable because they are designed for dynamic data storage. You can modify them by adding, removing, or changing elements.\n",
        "    - Tuples are immutable to ensure data integrity and optimization. They are stored more efficiently and are hashable, making them useful as dictionary keys."
      ],
      "metadata": {
        "id": "n3O1ZFdDQVfV"
      }
    },
    {
      "cell_type": "markdown",
      "source": [
        "7. What is the difference between == and is operators in Python?\n",
        "      - == compares values (checks if two variables have the same content).\n",
        "      - **is** compares memory locations (checks if two variables point to the same object)."
      ],
      "metadata": {
        "id": "_yLEe6urQqU3"
      }
    },
    {
      "cell_type": "markdown",
      "source": [
        "8. What are logical operators in Python?\n",
        "      - Logical operators are used to perform boolean logic operations.\n",
        "\n",
        "           - and → Returns True if both conditions are True.\n",
        "          - or → Returns True if at least one condition is True.\n",
        "           - not → Reverses the boolean value."
      ],
      "metadata": {
        "id": "ruCSbJQLQ3qh"
      }
    },
    {
      "cell_type": "markdown",
      "source": [
        "9. What is type casting in Python?\n",
        "      - Type casting is converting one data type into another."
      ],
      "metadata": {
        "id": "0nH7wa4gRBya"
      }
    },
    {
      "cell_type": "markdown",
      "source": [
        "10. What is the difference between implicit and explicit type casting?\n",
        "        - Implicit casting: Python automatically converts one data type to another.\n",
        "        - Explicit casting: The programmer manually converts the type using int(), float(), str(), etc.\n"
      ],
      "metadata": {
        "id": "LNojk-8hRIw7"
      }
    },
    {
      "cell_type": "markdown",
      "source": [
        "11. What is the purpose of conditional statements in Python?\n",
        "      - Conditional statements control the flow of execution based on conditions. They allow decision-making using if, elif, and else."
      ],
      "metadata": {
        "id": "kCc1jzgPRVb6"
      }
    },
    {
      "cell_type": "markdown",
      "source": [
        "12. How does the elif statement work?\n",
        "      - elif (short for \"else if\") checks multiple conditions sequentially after the if statement."
      ],
      "metadata": {
        "id": "HNCx_FYTRbLq"
      }
    },
    {
      "cell_type": "markdown",
      "source": [
        "13. What is the difference between for and while loops?\n",
        "      - for loop: Used when the number of iterations is known.\n",
        "      - while loop: Used when the number of iterations is unknown, based on a condition."
      ],
      "metadata": {
        "id": "DgzhJFlZRhnv"
      }
    },
    {
      "cell_type": "markdown",
      "source": [
        "14. Describe a scenario where a while loop is more suitable than a for loop.\n",
        "    - A while loop is better when the number of iterations is unknown.\n",
        "    - Example - Reading input until the user enters \"exit\"\n",
        "          user_input = \"\"\n",
        "          while user_input != \"exit\":\n",
        "          user_input = input(\"Enter something (type 'exit' to stop): \")\n",
        "          print(\"You entered:\", user_input)"
      ],
      "metadata": {
        "id": "2h1JLgyWRsa4"
      }
    },
    {
      "cell_type": "markdown",
      "source": [
        "#Coding Questions\n"
      ],
      "metadata": {
        "id": "4xfVON8-SXkb"
      }
    },
    {
      "cell_type": "markdown",
      "source": [
        "1.  Write a Python program to print \"Hello, World!"
      ],
      "metadata": {
        "id": "dJrPELeOR_2T"
      }
    },
    {
      "cell_type": "code",
      "source": [
        "print(\"Hello, World!\")\n"
      ],
      "metadata": {
        "colab": {
          "base_uri": "https://localhost:8080/"
        },
        "id": "PIYwY9BmSdpp",
        "outputId": "e15ed03d-e5f7-4933-f954-7c002944545f"
      },
      "execution_count": 1,
      "outputs": [
        {
          "output_type": "stream",
          "name": "stdout",
          "text": [
            "Hello, World!\n"
          ]
        }
      ]
    },
    {
      "cell_type": "markdown",
      "source": [
        "2.  Write a Python program that displays your name and age."
      ],
      "metadata": {
        "id": "d2pV05ZeStTM"
      }
    },
    {
      "cell_type": "code",
      "source": [
        "name = \"John\"\n",
        "age = 25\n",
        "print(f\"My name is {name} and I am {age} years old.\")"
      ],
      "metadata": {
        "colab": {
          "base_uri": "https://localhost:8080/"
        },
        "id": "zSduKqC_SmGc",
        "outputId": "ff9e1970-2901-465e-c25e-3ecca591f887"
      },
      "execution_count": 2,
      "outputs": [
        {
          "output_type": "stream",
          "name": "stdout",
          "text": [
            "My name is John and I am 25 years old.\n"
          ]
        }
      ]
    },
    {
      "cell_type": "markdown",
      "source": [
        "3. Write code to print all the pre-defined keywords in Python using the keyword library."
      ],
      "metadata": {
        "id": "IAKvEq--SuiT"
      }
    },
    {
      "cell_type": "code",
      "source": [
        "import keyword\n",
        "print(keyword.kwlist)"
      ],
      "metadata": {
        "colab": {
          "base_uri": "https://localhost:8080/"
        },
        "id": "xC46vh0lS05n",
        "outputId": "1d5a46e3-f656-4994-846b-f60fc684a669"
      },
      "execution_count": 3,
      "outputs": [
        {
          "output_type": "stream",
          "name": "stdout",
          "text": [
            "['False', 'None', 'True', 'and', 'as', 'assert', 'async', 'await', 'break', 'class', 'continue', 'def', 'del', 'elif', 'else', 'except', 'finally', 'for', 'from', 'global', 'if', 'import', 'in', 'is', 'lambda', 'nonlocal', 'not', 'or', 'pass', 'raise', 'return', 'try', 'while', 'with', 'yield']\n"
          ]
        }
      ]
    },
    {
      "cell_type": "markdown",
      "source": [
        "4. Write a program that checks if a given word is a Python keyword."
      ],
      "metadata": {
        "id": "GybSFANnS6F1"
      }
    },
    {
      "cell_type": "code",
      "source": [
        "import keyword\n",
        "\n",
        "word = input(\"Enter a word: \")\n",
        "if keyword.iskeyword(word):\n",
        "    print(f\"'{word}' is a Python keyword.\")\n",
        "else:\n",
        "    print(f\"'{word}' is not a Python keyword.\")"
      ],
      "metadata": {
        "colab": {
          "base_uri": "https://localhost:8080/"
        },
        "id": "dhA3z515S9ec",
        "outputId": "aa870ca2-5b42-4adb-94bc-96b3da3b83d9"
      },
      "execution_count": 5,
      "outputs": [
        {
          "output_type": "stream",
          "name": "stdout",
          "text": [
            "Enter a word: if\n",
            "'if' is a Python keyword.\n"
          ]
        }
      ]
    },
    {
      "cell_type": "markdown",
      "source": [
        "5. Create a list and tuple in Python, and demonstrate how attempting to change an element works differently for each."
      ],
      "metadata": {
        "id": "sCKmhIwNTQkw"
      }
    },
    {
      "cell_type": "code",
      "source": [
        "my_list = [1, 2, 3]\n",
        "my_list[0] = 100\n",
        "print(\"Modified List:\", my_list)\n",
        "\n",
        "my_tuple = (1, 2, 3)\n",
        "try:\n",
        "    my_tuple[0] = 100\n",
        "except TypeError as e:\n",
        "    print(\"Error:\", e)"
      ],
      "metadata": {
        "colab": {
          "base_uri": "https://localhost:8080/"
        },
        "id": "M1c6B8lMTW9S",
        "outputId": "8f7da4c2-cb06-45fd-8321-a9a9a164ea5e"
      },
      "execution_count": 6,
      "outputs": [
        {
          "output_type": "stream",
          "name": "stdout",
          "text": [
            "Modified List: [100, 2, 3]\n",
            "Error: 'tuple' object does not support item assignment\n"
          ]
        }
      ]
    },
    {
      "cell_type": "markdown",
      "source": [
        "6. Write a function to demonstrate the behavior of mutable and immutable arguments."
      ],
      "metadata": {
        "id": "c8PwAS7-Th5W"
      }
    },
    {
      "cell_type": "code",
      "source": [
        "def modify_data(num, lst):\n",
        "    num += 1\n",
        "    lst.append(4)\n",
        "\n",
        "x = 10\n",
        "y = [1, 2, 3]\n",
        "modify_data(x, y)\n",
        "\n",
        "print(\"Immutable x:\", x)\n",
        "print(\"Mutable y:\", y)"
      ],
      "metadata": {
        "colab": {
          "base_uri": "https://localhost:8080/"
        },
        "id": "ExXUfDOzTlUI",
        "outputId": "5865a6c9-66a8-4a00-eca0-e555b77ddb7c"
      },
      "execution_count": 7,
      "outputs": [
        {
          "output_type": "stream",
          "name": "stdout",
          "text": [
            "Immutable x: 10\n",
            "Mutable y: [1, 2, 3, 4]\n"
          ]
        }
      ]
    },
    {
      "cell_type": "markdown",
      "source": [
        "7.  Write a function to demonstrate the behavior of mutable and immutable arguments."
      ],
      "metadata": {
        "id": "1KaNxQbgTwuF"
      }
    },
    {
      "cell_type": "code",
      "source": [
        "def modify_data(num, lst):\n",
        "    num += 1\n",
        "    lst.append(4)\n",
        "\n",
        "x = 10\n",
        "y = [1, 2, 3]\n",
        "modify_data(x, y)\n",
        "\n",
        "print(\"Immutable x:\", x)\n",
        "print(\"Mutable y:\", y)"
      ],
      "metadata": {
        "colab": {
          "base_uri": "https://localhost:8080/"
        },
        "id": "Q_izD2J8T2ms",
        "outputId": "e92b206f-6f88-447f-eee4-c9aacc564105"
      },
      "execution_count": 8,
      "outputs": [
        {
          "output_type": "stream",
          "name": "stdout",
          "text": [
            "Immutable x: 10\n",
            "Mutable y: [1, 2, 3, 4]\n"
          ]
        }
      ]
    },
    {
      "cell_type": "markdown",
      "source": [
        "8.  Write a program to demonstrate the use of logical operators."
      ],
      "metadata": {
        "id": "D7ml6aq-UEqc"
      }
    },
    {
      "cell_type": "code",
      "source": [
        "a, b = 5, 10\n",
        "print(a > 0 and b > 0)  # True\n",
        "print(a < 0 or b > 0)   # True\n",
        "print(not(a > 0))"
      ],
      "metadata": {
        "colab": {
          "base_uri": "https://localhost:8080/"
        },
        "id": "mA6Xl9QBUo7U",
        "outputId": "598e1189-8c6b-4ffd-d057-2a9b9135b789"
      },
      "execution_count": 9,
      "outputs": [
        {
          "output_type": "stream",
          "name": "stdout",
          "text": [
            "True\n",
            "True\n",
            "False\n"
          ]
        }
      ]
    },
    {
      "cell_type": "markdown",
      "source": [
        "9. Write a Python program to convert user input from string to integer, float, and boolean types."
      ],
      "metadata": {
        "id": "_nyhnKLNUIUj"
      }
    },
    {
      "cell_type": "code",
      "source": [
        "user_input = input(\"Enter a number: \")\n",
        "\n",
        "int_value = int(user_input)\n",
        "float_value = float(user_input)\n",
        "bool_value = bool(user_input)"
      ],
      "metadata": {
        "colab": {
          "base_uri": "https://localhost:8080/"
        },
        "id": "J95zRKDhUt08",
        "outputId": "a86d9e62-ece9-4858-9977-2b6eb644cf12"
      },
      "execution_count": 11,
      "outputs": [
        {
          "name": "stdout",
          "output_type": "stream",
          "text": [
            "Enter a number: 12\n"
          ]
        }
      ]
    },
    {
      "cell_type": "markdown",
      "source": [
        "10. Write code to demonstrate type casting with list elements."
      ],
      "metadata": {
        "id": "ZD0zI2OLUNam"
      }
    },
    {
      "cell_type": "code",
      "source": [
        "num_list = [\"1\", \"2\", \"3\", \"4\"]\n",
        "int_list = list(map(int, num_list))\n",
        "print(\"Converted List:\", int_list)"
      ],
      "metadata": {
        "colab": {
          "base_uri": "https://localhost:8080/"
        },
        "id": "TTGnIN1fU6hq",
        "outputId": "34ae4ba2-4742-4ac2-bf0f-7b4590a736fc"
      },
      "execution_count": 12,
      "outputs": [
        {
          "output_type": "stream",
          "name": "stdout",
          "text": [
            "Converted List: [1, 2, 3, 4]\n"
          ]
        }
      ]
    },
    {
      "cell_type": "markdown",
      "source": [
        "11.  Write a program that checks if a number is positive, negative, or zero."
      ],
      "metadata": {
        "id": "0rQmYMwpUSOy"
      }
    },
    {
      "cell_type": "code",
      "source": [
        "num = int(input(\"Enter a number: \"))\n",
        "\n",
        "if num > 0:\n",
        "    print(\"Positive\")\n",
        "elif num < 0:\n",
        "    print(\"Negative\")\n",
        "else:\n",
        "    print(\"Zero\")"
      ],
      "metadata": {
        "colab": {
          "base_uri": "https://localhost:8080/"
        },
        "id": "If9MFoqAVAnU",
        "outputId": "12fd067a-d468-407f-d64a-4fb37bbbfd41"
      },
      "execution_count": 13,
      "outputs": [
        {
          "output_type": "stream",
          "name": "stdout",
          "text": [
            "Enter a number: 12\n",
            "Positive\n"
          ]
        }
      ]
    },
    {
      "cell_type": "markdown",
      "source": [
        "12.  Write a for loop to print numbers from 1 to 10."
      ],
      "metadata": {
        "id": "cMZ0OkO4UWWO"
      }
    },
    {
      "cell_type": "code",
      "source": [
        "for i in range(1, 11):\n",
        "    print(i)"
      ],
      "metadata": {
        "colab": {
          "base_uri": "https://localhost:8080/"
        },
        "id": "GJB1lY_pVGOi",
        "outputId": "92230d26-fce2-46e9-d7e8-8601d1730c6b"
      },
      "execution_count": 14,
      "outputs": [
        {
          "output_type": "stream",
          "name": "stdout",
          "text": [
            "1\n",
            "2\n",
            "3\n",
            "4\n",
            "5\n",
            "6\n",
            "7\n",
            "8\n",
            "9\n",
            "10\n"
          ]
        }
      ]
    },
    {
      "cell_type": "markdown",
      "source": [
        "13. Write a Python program to find the sum of all even numbers between 1 and 50."
      ],
      "metadata": {
        "id": "9QiKyIxVUZwu"
      }
    },
    {
      "cell_type": "code",
      "source": [
        "sum_even = sum(i for i in range(1, 51) if i % 2 == 0)\n",
        "print(\"Sum of even numbers:\", sum_even)"
      ],
      "metadata": {
        "colab": {
          "base_uri": "https://localhost:8080/"
        },
        "id": "Z4m7CVqCVLOV",
        "outputId": "7a3f6239-c8c3-4cdd-c665-6ac054f08f85"
      },
      "execution_count": 15,
      "outputs": [
        {
          "output_type": "stream",
          "name": "stdout",
          "text": [
            "Sum of even numbers: 650\n"
          ]
        }
      ]
    },
    {
      "cell_type": "markdown",
      "source": [
        "14. Write a program to reverse a string using a while loop."
      ],
      "metadata": {
        "id": "m7Ilfk5eUdWW"
      }
    },
    {
      "cell_type": "code",
      "source": [
        "string = input(\"Enter a string: \")\n",
        "reversed_string = \"\"\n",
        "i = len(string) - 1\n",
        "\n",
        "while i >= 0:\n",
        "    reversed_string += string[i]\n",
        "    i -= 1\n",
        "\n",
        "print(\"Reversed String:\", reversed_string)"
      ],
      "metadata": {
        "colab": {
          "base_uri": "https://localhost:8080/"
        },
        "id": "8yghBp3eVQnq",
        "outputId": "19035b47-96c7-4dd2-8f05-827680a44457"
      },
      "execution_count": 16,
      "outputs": [
        {
          "output_type": "stream",
          "name": "stdout",
          "text": [
            "Enter a string: Nikhil\n",
            "Reversed String: lihkiN\n"
          ]
        }
      ]
    },
    {
      "cell_type": "markdown",
      "source": [
        "15.  Write a Python program to calculate the factorial of a number provided by the user using a while loop."
      ],
      "metadata": {
        "id": "5PaFlRJLUg8_"
      }
    },
    {
      "cell_type": "code",
      "source": [
        "num = int(input(\"Enter a number: \"))\n",
        "factorial = 1\n",
        "i = 1\n",
        "\n",
        "while i <= num:\n",
        "    factorial *= i\n",
        "    i += 1\n",
        "\n",
        "print(f\"Factorial of {num} is {factorial}\")"
      ],
      "metadata": {
        "colab": {
          "base_uri": "https://localhost:8080/"
        },
        "id": "EBA2vs1GVXJx",
        "outputId": "c88ae9f1-74b8-4039-e2e3-1b10f7f0246b"
      },
      "execution_count": 17,
      "outputs": [
        {
          "output_type": "stream",
          "name": "stdout",
          "text": [
            "Enter a number: 7\n",
            "Factorial of 7 is 5040\n"
          ]
        }
      ]
    }
  ]
}